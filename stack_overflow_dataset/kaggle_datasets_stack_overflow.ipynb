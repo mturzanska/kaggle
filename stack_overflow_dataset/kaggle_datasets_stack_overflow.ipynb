{
 "cells": [
  {
   "cell_type": "markdown",
   "metadata": {},
   "source": [
    "### Kaggle datasets: Stack Overflow python questions analysis"
   ]
  },
  {
   "cell_type": "code",
   "execution_count": 47,
   "metadata": {
    "collapsed": false,
    "scrolled": false
   },
   "outputs": [
    {
     "data": {
      "text/html": [
       "<div>\n",
       "<table border=\"1\" class=\"dataframe\">\n",
       "  <thead>\n",
       "    <tr style=\"text-align: right;\">\n",
       "      <th></th>\n",
       "      <th>Id</th>\n",
       "      <th>OwnerUserId</th>\n",
       "      <th>CreationDate</th>\n",
       "      <th>Score</th>\n",
       "      <th>Title</th>\n",
       "      <th>Body</th>\n",
       "    </tr>\n",
       "  </thead>\n",
       "  <tbody>\n",
       "    <tr>\n",
       "      <th>0</th>\n",
       "      <td>469</td>\n",
       "      <td>147.0</td>\n",
       "      <td>2008-08-02T15:11:16Z</td>\n",
       "      <td>21</td>\n",
       "      <td>How can I find the full path to a font from it...</td>\n",
       "      <td>&lt;p&gt;I am using the Photoshop's javascript API t...</td>\n",
       "    </tr>\n",
       "    <tr>\n",
       "      <th>1</th>\n",
       "      <td>502</td>\n",
       "      <td>147.0</td>\n",
       "      <td>2008-08-02T17:01:58Z</td>\n",
       "      <td>27</td>\n",
       "      <td>Get a preview JPEG of a PDF on Windows?</td>\n",
       "      <td>&lt;p&gt;I have a cross-platform (Python) applicatio...</td>\n",
       "    </tr>\n",
       "    <tr>\n",
       "      <th>2</th>\n",
       "      <td>535</td>\n",
       "      <td>154.0</td>\n",
       "      <td>2008-08-02T18:43:54Z</td>\n",
       "      <td>40</td>\n",
       "      <td>Continuous Integration System for a Python Cod...</td>\n",
       "      <td>&lt;p&gt;I'm starting work on a hobby project with a...</td>\n",
       "    </tr>\n",
       "    <tr>\n",
       "      <th>3</th>\n",
       "      <td>594</td>\n",
       "      <td>116.0</td>\n",
       "      <td>2008-08-03T01:15:08Z</td>\n",
       "      <td>25</td>\n",
       "      <td>cx_Oracle: How do I iterate over a result set?</td>\n",
       "      <td>&lt;p&gt;There are several ways to iterate over a re...</td>\n",
       "    </tr>\n",
       "    <tr>\n",
       "      <th>4</th>\n",
       "      <td>683</td>\n",
       "      <td>199.0</td>\n",
       "      <td>2008-08-03T13:19:16Z</td>\n",
       "      <td>28</td>\n",
       "      <td>Using 'in' to match an attribute of Python obj...</td>\n",
       "      <td>&lt;p&gt;I don't remember whether I was dreaming or ...</td>\n",
       "    </tr>\n",
       "  </tbody>\n",
       "</table>\n",
       "</div>"
      ],
      "text/plain": [
       "    Id  OwnerUserId          CreationDate  Score  \\\n",
       "0  469        147.0  2008-08-02T15:11:16Z     21   \n",
       "1  502        147.0  2008-08-02T17:01:58Z     27   \n",
       "2  535        154.0  2008-08-02T18:43:54Z     40   \n",
       "3  594        116.0  2008-08-03T01:15:08Z     25   \n",
       "4  683        199.0  2008-08-03T13:19:16Z     28   \n",
       "\n",
       "                                               Title  \\\n",
       "0  How can I find the full path to a font from it...   \n",
       "1            Get a preview JPEG of a PDF on Windows?   \n",
       "2  Continuous Integration System for a Python Cod...   \n",
       "3     cx_Oracle: How do I iterate over a result set?   \n",
       "4  Using 'in' to match an attribute of Python obj...   \n",
       "\n",
       "                                                Body  \n",
       "0  <p>I am using the Photoshop's javascript API t...  \n",
       "1  <p>I have a cross-platform (Python) applicatio...  \n",
       "2  <p>I'm starting work on a hobby project with a...  \n",
       "3  <p>There are several ways to iterate over a re...  \n",
       "4  <p>I don't remember whether I was dreaming or ...  "
      ]
     },
     "execution_count": 47,
     "metadata": {},
     "output_type": "execute_result"
    }
   ],
   "source": [
    "from __future__ import division\n",
    "from collections import Counter\n",
    "import os\n",
    "import string\n",
    "\n",
    "from nltk.corpus import stopwords\n",
    "import matplotlib.pyplot as plt\n",
    "import numpy as np\n",
    "import pandas as pd\n",
    "\n",
    "# Disable pandas SettingWithCopyWarning\n",
    "pd.options.mode.chained_assignment = None\n",
    "\n",
    "work_dir = os.environ['WORK_DIR']\n",
    "\n",
    "# Load data (Questions.csv downloaded from https://www.kaggle.com/stackoverflow/pythonquestions)\n",
    "df = pd.read_csv(os.path.join(work_dir, 'Questions.csv'))\n",
    "df.head()\n"
   ]
  },
  {
   "cell_type": "code",
   "execution_count": 48,
   "metadata": {
    "collapsed": false
   },
   "outputs": [
    {
     "name": "stdout",
     "output_type": "stream",
     "text": [
      "3643692\n",
      "182184\n"
     ]
    }
   ],
   "source": [
    "# Limit size\n",
    "\n",
    "print df.size\n",
    "df_frac = df.sample(frac=.05)\n",
    "print df_frac.size"
   ]
  },
  {
   "cell_type": "code",
   "execution_count": 49,
   "metadata": {
    "collapsed": false
   },
   "outputs": [
    {
     "name": "stderr",
     "output_type": "stream",
     "text": [
      "/home/malgorzata/Repos/kaggle/venv/lib/python2.7/site-packages/ipykernel/__main__.py:7: UnicodeWarning: Unicode equal comparison failed to convert both arguments to Unicode - interpreting them as being unequal\n"
     ]
    }
   ],
   "source": [
    "# Clean strings - remove stopwords, punctuation, uppercase\n",
    "\n",
    "stopwords_en = stopwords.words('english')\n",
    "\n",
    "def remove_stopwords(row):\n",
    "    if row.Title:\n",
    "        return ' '.join([word for word in row.Title.split() if word not in stopwords_en])\n",
    "\n",
    "def remove_punctuation(row):\n",
    "    if row.Title:\n",
    "        return ' '.join([word for word in row.Title.split() if word not in string.punctuation])\n",
    "\n",
    "def make_lowercase(row):\n",
    "    if row.Title:\n",
    "        return ' '.join([word.lower() for word in row.Title.split()])\n",
    "\n",
    "\n",
    "df_frac['Title'] = df_frac.apply(remove_stopwords, axis=1)\n",
    "df_frac['Title'] = df_frac.apply(remove_punctuation, axis=1)\n",
    "df_frac['Title'] = df_frac.apply(make_lowercase, axis=1)\n",
    "df_frac.dropna(subset=['Title'], inplace=True)"
   ]
  },
  {
   "cell_type": "code",
   "execution_count": 50,
   "metadata": {
    "collapsed": false
   },
   "outputs": [
    {
     "data": {
      "text/html": [
       "<div>\n",
       "<table border=\"1\" class=\"dataframe\">\n",
       "  <thead>\n",
       "    <tr style=\"text-align: right;\">\n",
       "      <th></th>\n",
       "      <th>Id</th>\n",
       "      <th>OwnerUserId</th>\n",
       "      <th>CreationDate</th>\n",
       "      <th>Score</th>\n",
       "      <th>Title</th>\n",
       "      <th>Body</th>\n",
       "    </tr>\n",
       "  </thead>\n",
       "  <tbody>\n",
       "    <tr>\n",
       "      <th>227773</th>\n",
       "      <td>20467705</td>\n",
       "      <td>1844303.0</td>\n",
       "      <td>2013-12-09T09:59:48Z</td>\n",
       "      <td>3</td>\n",
       "      <td>writing unicode data python</td>\n",
       "      <td>&lt;p&gt;I have an xlsx file that I need to convert ...</td>\n",
       "    </tr>\n",
       "    <tr>\n",
       "      <th>232835</th>\n",
       "      <td>20838162</td>\n",
       "      <td>2284221.0</td>\n",
       "      <td>2013-12-30T11:00:36Z</td>\n",
       "      <td>10</td>\n",
       "      <td>how threadpoolexecutor().map differ threadpool...</td>\n",
       "      <td>&lt;p&gt;I was just very confused by some code that ...</td>\n",
       "    </tr>\n",
       "    <tr>\n",
       "      <th>32659</th>\n",
       "      <td>3785294</td>\n",
       "      <td>138584.0</td>\n",
       "      <td>2010-09-24T08:14:56Z</td>\n",
       "      <td>11</td>\n",
       "      <td>best way iterate rows db-table</td>\n",
       "      <td>&lt;p&gt;I often write little Python scripts to iter...</td>\n",
       "    </tr>\n",
       "    <tr>\n",
       "      <th>38221</th>\n",
       "      <td>4314068</td>\n",
       "      <td>515982.0</td>\n",
       "      <td>2010-11-30T13:05:43Z</td>\n",
       "      <td>0</td>\n",
       "      <td>extend django user model (make work request.us...</td>\n",
       "      <td>&lt;p&gt;I'd like to extend the User model, so I can...</td>\n",
       "    </tr>\n",
       "    <tr>\n",
       "      <th>176789</th>\n",
       "      <td>16824902</td>\n",
       "      <td>2434346.0</td>\n",
       "      <td>2013-05-29T22:22:46Z</td>\n",
       "      <td>0</td>\n",
       "      <td>disappeared list variable</td>\n",
       "      <td>&lt;p&gt;Could you please tell why list variable hav...</td>\n",
       "    </tr>\n",
       "  </tbody>\n",
       "</table>\n",
       "</div>"
      ],
      "text/plain": [
       "              Id  OwnerUserId          CreationDate  Score  \\\n",
       "227773  20467705    1844303.0  2013-12-09T09:59:48Z      3   \n",
       "232835  20838162    2284221.0  2013-12-30T11:00:36Z     10   \n",
       "32659    3785294     138584.0  2010-09-24T08:14:56Z     11   \n",
       "38221    4314068     515982.0  2010-11-30T13:05:43Z      0   \n",
       "176789  16824902    2434346.0  2013-05-29T22:22:46Z      0   \n",
       "\n",
       "                                                    Title  \\\n",
       "227773                        writing unicode data python   \n",
       "232835  how threadpoolexecutor().map differ threadpool...   \n",
       "32659                      best way iterate rows db-table   \n",
       "38221   extend django user model (make work request.us...   \n",
       "176789                          disappeared list variable   \n",
       "\n",
       "                                                     Body  \n",
       "227773  <p>I have an xlsx file that I need to convert ...  \n",
       "232835  <p>I was just very confused by some code that ...  \n",
       "32659   <p>I often write little Python scripts to iter...  \n",
       "38221   <p>I'd like to extend the User model, so I can...  \n",
       "176789  <p>Could you please tell why list variable hav...  "
      ]
     },
     "execution_count": 50,
     "metadata": {},
     "output_type": "execute_result"
    }
   ],
   "source": [
    "df_frac.head()"
   ]
  },
  {
   "cell_type": "code",
   "execution_count": null,
   "metadata": {
    "collapsed": true
   },
   "outputs": [],
   "source": []
  }
 ],
 "metadata": {
  "kernelspec": {
   "display_name": "Python 2",
   "language": "python",
   "name": "python2"
  },
  "language_info": {
   "codemirror_mode": {
    "name": "ipython",
    "version": 2
   },
   "file_extension": ".py",
   "mimetype": "text/x-python",
   "name": "python",
   "nbconvert_exporter": "python",
   "pygments_lexer": "ipython2",
   "version": "2.7.12"
  }
 },
 "nbformat": 4,
 "nbformat_minor": 1
}
