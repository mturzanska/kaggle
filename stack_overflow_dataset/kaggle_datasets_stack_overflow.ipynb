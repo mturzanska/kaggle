{
 "cells": [
  {
   "cell_type": "markdown",
   "metadata": {},
   "source": [
    "### Kaggle datasets: Stack Overflow python questions analysis"
   ]
  },
  {
   "cell_type": "code",
   "execution_count": 61,
   "metadata": {
    "collapsed": false,
    "scrolled": false
   },
   "outputs": [
    {
     "data": {
      "text/html": [
       "<div>\n",
       "<table border=\"1\" class=\"dataframe\">\n",
       "  <thead>\n",
       "    <tr style=\"text-align: right;\">\n",
       "      <th></th>\n",
       "      <th>Id</th>\n",
       "      <th>OwnerUserId</th>\n",
       "      <th>CreationDate</th>\n",
       "      <th>Score</th>\n",
       "      <th>Title</th>\n",
       "      <th>Body</th>\n",
       "    </tr>\n",
       "  </thead>\n",
       "  <tbody>\n",
       "    <tr>\n",
       "      <th>0</th>\n",
       "      <td>469</td>\n",
       "      <td>147.0</td>\n",
       "      <td>2008-08-02T15:11:16Z</td>\n",
       "      <td>21</td>\n",
       "      <td>How can I find the full path to a font from it...</td>\n",
       "      <td>&lt;p&gt;I am using the Photoshop's javascript API t...</td>\n",
       "    </tr>\n",
       "    <tr>\n",
       "      <th>1</th>\n",
       "      <td>502</td>\n",
       "      <td>147.0</td>\n",
       "      <td>2008-08-02T17:01:58Z</td>\n",
       "      <td>27</td>\n",
       "      <td>Get a preview JPEG of a PDF on Windows?</td>\n",
       "      <td>&lt;p&gt;I have a cross-platform (Python) applicatio...</td>\n",
       "    </tr>\n",
       "    <tr>\n",
       "      <th>2</th>\n",
       "      <td>535</td>\n",
       "      <td>154.0</td>\n",
       "      <td>2008-08-02T18:43:54Z</td>\n",
       "      <td>40</td>\n",
       "      <td>Continuous Integration System for a Python Cod...</td>\n",
       "      <td>&lt;p&gt;I'm starting work on a hobby project with a...</td>\n",
       "    </tr>\n",
       "    <tr>\n",
       "      <th>3</th>\n",
       "      <td>594</td>\n",
       "      <td>116.0</td>\n",
       "      <td>2008-08-03T01:15:08Z</td>\n",
       "      <td>25</td>\n",
       "      <td>cx_Oracle: How do I iterate over a result set?</td>\n",
       "      <td>&lt;p&gt;There are several ways to iterate over a re...</td>\n",
       "    </tr>\n",
       "    <tr>\n",
       "      <th>4</th>\n",
       "      <td>683</td>\n",
       "      <td>199.0</td>\n",
       "      <td>2008-08-03T13:19:16Z</td>\n",
       "      <td>28</td>\n",
       "      <td>Using 'in' to match an attribute of Python obj...</td>\n",
       "      <td>&lt;p&gt;I don't remember whether I was dreaming or ...</td>\n",
       "    </tr>\n",
       "  </tbody>\n",
       "</table>\n",
       "</div>"
      ],
      "text/plain": [
       "    Id  OwnerUserId          CreationDate  Score  \\\n",
       "0  469        147.0  2008-08-02T15:11:16Z     21   \n",
       "1  502        147.0  2008-08-02T17:01:58Z     27   \n",
       "2  535        154.0  2008-08-02T18:43:54Z     40   \n",
       "3  594        116.0  2008-08-03T01:15:08Z     25   \n",
       "4  683        199.0  2008-08-03T13:19:16Z     28   \n",
       "\n",
       "                                               Title  \\\n",
       "0  How can I find the full path to a font from it...   \n",
       "1            Get a preview JPEG of a PDF on Windows?   \n",
       "2  Continuous Integration System for a Python Cod...   \n",
       "3     cx_Oracle: How do I iterate over a result set?   \n",
       "4  Using 'in' to match an attribute of Python obj...   \n",
       "\n",
       "                                                Body  \n",
       "0  <p>I am using the Photoshop's javascript API t...  \n",
       "1  <p>I have a cross-platform (Python) applicatio...  \n",
       "2  <p>I'm starting work on a hobby project with a...  \n",
       "3  <p>There are several ways to iterate over a re...  \n",
       "4  <p>I don't remember whether I was dreaming or ...  "
      ]
     },
     "execution_count": 61,
     "metadata": {},
     "output_type": "execute_result"
    }
   ],
   "source": [
    "from __future__ import division\n",
    "from collections import Counter, defaultdict\n",
    "import os\n",
    "import re\n",
    "import string\n",
    "\n",
    "from nltk.corpus import stopwords\n",
    "import matplotlib.pyplot as plt\n",
    "import numpy as np\n",
    "import pandas as pd\n",
    "\n",
    "# Disable pandas SettingWithCopyWarning\n",
    "pd.options.mode.chained_assignment = None\n",
    "\n",
    "work_dir = os.environ['WORK_DIR']\n",
    "\n",
    "# Load data (Questions.csv downloaded from https://www.kaggle.com/stackoverflow/pythonquestions)\n",
    "df = pd.read_csv(os.path.join(work_dir, 'Questions.csv'))\n",
    "df.head()\n"
   ]
  },
  {
   "cell_type": "code",
   "execution_count": 62,
   "metadata": {
    "collapsed": false
   },
   "outputs": [
    {
     "name": "stdout",
     "output_type": "stream",
     "text": [
      "3643692\n",
      "3642\n"
     ]
    }
   ],
   "source": [
    "# Limit size\n",
    "\n",
    "print df.size\n",
    "df_frac = df.sample(frac=.001)\n",
    "print df_frac.size\n",
    "del df_frac['Body']"
   ]
  },
  {
   "cell_type": "code",
   "execution_count": 63,
   "metadata": {
    "collapsed": false,
    "scrolled": true
   },
   "outputs": [
    {
     "data": {
      "text/html": [
       "<div>\n",
       "<table border=\"1\" class=\"dataframe\">\n",
       "  <thead>\n",
       "    <tr style=\"text-align: right;\">\n",
       "      <th></th>\n",
       "      <th>Id</th>\n",
       "      <th>OwnerUserId</th>\n",
       "      <th>CreationDate</th>\n",
       "      <th>Score</th>\n",
       "      <th>Title</th>\n",
       "      <th>TitleBagOfWords</th>\n",
       "    </tr>\n",
       "  </thead>\n",
       "  <tbody>\n",
       "    <tr>\n",
       "      <th>7667</th>\n",
       "      <td>1216947</td>\n",
       "      <td>59842.0</td>\n",
       "      <td>2009-08-01T16:29:27Z</td>\n",
       "      <td>1</td>\n",
       "      <td>google appenginepython can i depend task queue...</td>\n",
       "      <td>{u'appenginepython': 1, u'google': 1, u'depend...</td>\n",
       "    </tr>\n",
       "    <tr>\n",
       "      <th>329554</th>\n",
       "      <td>26914464</td>\n",
       "      <td>1766709.0</td>\n",
       "      <td>2014-11-13T17:09:31Z</td>\n",
       "      <td>0</td>\n",
       "      <td>transverse directories python</td>\n",
       "      <td>{u'python': 1, u'directories': 1, u'transverse...</td>\n",
       "    </tr>\n",
       "    <tr>\n",
       "      <th>496440</th>\n",
       "      <td>35436054</td>\n",
       "      <td>5935617.0</td>\n",
       "      <td>2016-02-16T15:09:59Z</td>\n",
       "      <td>1</td>\n",
       "      <td>what better pythonic version conditional deleting</td>\n",
       "      <td>{u'what': 1, u'conditional': 1, u'pythonic': 1...</td>\n",
       "    </tr>\n",
       "    <tr>\n",
       "      <th>99134</th>\n",
       "      <td>10342884</td>\n",
       "      <td>955487.0</td>\n",
       "      <td>2012-04-26T23:36:58Z</td>\n",
       "      <td>2</td>\n",
       "      <td>sending emails with smtplib in python</td>\n",
       "      <td>{u'sending': 1, u'python': 1, u'in': 1, u'smtp...</td>\n",
       "    </tr>\n",
       "    <tr>\n",
       "      <th>115528</th>\n",
       "      <td>11772136</td>\n",
       "      <td>1414448.0</td>\n",
       "      <td>2012-08-02T06:27:10Z</td>\n",
       "      <td>1</td>\n",
       "      <td>xmlsaxexceptionssaxparseexception tmpsudssudsh...</td>\n",
       "      <td>{u'xmlsaxexceptionssaxparseexception': 1, u'tm...</td>\n",
       "    </tr>\n",
       "  </tbody>\n",
       "</table>\n",
       "</div>"
      ],
      "text/plain": [
       "              Id  OwnerUserId          CreationDate  Score  \\\n",
       "7667     1216947      59842.0  2009-08-01T16:29:27Z      1   \n",
       "329554  26914464    1766709.0  2014-11-13T17:09:31Z      0   \n",
       "496440  35436054    5935617.0  2016-02-16T15:09:59Z      1   \n",
       "99134   10342884     955487.0  2012-04-26T23:36:58Z      2   \n",
       "115528  11772136    1414448.0  2012-08-02T06:27:10Z      1   \n",
       "\n",
       "                                                    Title  \\\n",
       "7667    google appenginepython can i depend task queue...   \n",
       "329554                      transverse directories python   \n",
       "496440  what better pythonic version conditional deleting   \n",
       "99134               sending emails with smtplib in python   \n",
       "115528  xmlsaxexceptionssaxparseexception tmpsudssudsh...   \n",
       "\n",
       "                                          TitleBagOfWords  \n",
       "7667    {u'appenginepython': 1, u'google': 1, u'depend...  \n",
       "329554  {u'python': 1, u'directories': 1, u'transverse...  \n",
       "496440  {u'what': 1, u'conditional': 1, u'pythonic': 1...  \n",
       "99134   {u'sending': 1, u'python': 1, u'in': 1, u'smtp...  \n",
       "115528  {u'xmlsaxexceptionssaxparseexception': 1, u'tm...  "
      ]
     },
     "execution_count": 63,
     "metadata": {},
     "output_type": "execute_result"
    }
   ],
   "source": [
    "# Clean strings - remove stopwords, punctuation, uppercase\n",
    "\n",
    "stopwords_en = stopwords.words('english')\n",
    "\n",
    "\n",
    "def remove_stopwords(row):\n",
    "    if row.Title:\n",
    "        return ' '.join([word for word in row.Title.split() if word not in stopwords_en])\n",
    "\n",
    "def remove_non_letters(row):\n",
    "    regex = re.compile('[^a-zA-Z]')\n",
    "    if row.Title:       \n",
    "        return ' '.join([regex.sub('', word) for word in row.Title.split()])\n",
    "\n",
    "def make_lowercase(row):\n",
    "    if row.Title:\n",
    "        return ' '.join([word.lower() for word in row.Title.split()])\n",
    "\n",
    "def get_bag_of_words(row):\n",
    "    if row.Title:\n",
    "        return Counter(row.Title.split())\n",
    "\n",
    "df_frac['Title'] = df_frac.apply(remove_stopwords, axis=1)\n",
    "df_frac['Title'] = df_frac.apply(remove_non_letters, axis=1)\n",
    "df_frac['Title'] = df_frac.apply(make_lowercase, axis=1)\n",
    "df_frac['TitleBagOfWords'] = df_frac.apply(get_bag_of_words, axis=1)\n",
    "df_frac.dropna(subset=['Title'], inplace=True)\n",
    "df_frac.head()"
   ]
  },
  {
   "cell_type": "code",
   "execution_count": 65,
   "metadata": {
    "collapsed": false
   },
   "outputs": [
    {
     "data": {
      "image/png": "[encoded data removed]",
      "text/plain": [
       "<matplotlib.figure.Figure at 0x7f36064ab190>"
      ]
     },
     "metadata": {},
     "output_type": "display_data"
    }
   ],
   "source": [
    "# Compute tf-idf\n",
    "\n",
    "# get document frequencies\n",
    "global_counter = defaultdict(int)\n",
    "for title in df_frac.TitleBagOfWords:\n",
    "    for word, count in title.iteritems():\n",
    "        global_counter[word] += 1\n",
    "        \n",
    "# draw a histogram to decide on the cut off point\n",
    "plt.hist(global_counter.values(), 400, normed=True)\n",
    "plt.xlim(0, 15)\n",
    "plt.show()\n",
    "\n",
    "threshold = 1\n",
    "\n",
    "global_counter_filtered = {k: v for k, v in global_counter.iteritems() if v > threshold}\n",
    "        \n",
    "for word, count in global_counter_filtered.iteritems():\n",
    "    tag_prefix = 'Count_{}'.format(word)\n",
    "    globl_tag_prefix = 'Global{}'.format(tag_prefix)\n",
    "    df_frac[word] = 0\n",
    "    df_frac[tag] = count\n",
    "\n",
    "def get_title_word_count(row):\n",
    "    return len(row.TitleBagOfWords.items())\n",
    "\n",
    "def unpack_counters_to_columns(row):\n",
    "    for word, count in row.TitleBagOfWords.iteritems():\n",
    "        if count > threshold:\n",
    "            row[word] = count\n",
    "    return row\n",
    "\n",
    "df_frac['TitleWordCount'] = df_frac.apply(get_title_word_count, axis=1)\n",
    "df_frac = df_frac.apply(unpack_counters_to_columns, axis=1)\n"
   ]
  },
  {
   "cell_type": "code",
   "execution_count": null,
   "metadata": {
    "collapsed": true
   },
   "outputs": [],
   "source": []
  }
 ],
 "metadata": {
  "kernelspec": {
   "display_name": "Python 2",
   "language": "python",
   "name": "python2"
  },
  "language_info": {
   "codemirror_mode": {
    "name": "ipython",
    "version": 2
   },
   "file_extension": ".py",
   "mimetype": "text/x-python",
   "name": "python",
   "nbconvert_exporter": "python",
   "pygments_lexer": "ipython2",
   "version": "2.7.12"
  }
 },
 "nbformat": 4,
 "nbformat_minor": 1
}
